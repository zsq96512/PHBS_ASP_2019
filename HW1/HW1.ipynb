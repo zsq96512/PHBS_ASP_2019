{
 "cells": [
  {
   "cell_type": "markdown",
   "metadata": {},
   "source": [
    "# HW 1: Corporate Bond Pricing (due by 9.17 Tues)"
   ]
  },
  {
   "cell_type": "markdown",
   "metadata": {},
   "source": [
    "We are going to compute the price of a corporate bond (subject to default) with Monte-Carlo simulation. Assume that \n",
    "* the default time of a company follows the exponential distribution with intensity $\\lambda=$__`def_rate`__. \n",
    "* the riskfree interest rate is $r_f=$__`rf_rate`__ and the maturity of the bond is $T=$__`mat`__. \n",
    "* in the case of default, you can recover some portion ($R=$__`recovery_rate`__) of the face value.\n",
    "* the coupon is 0%, i.e., it is a zero-coupon bond.\n",
    "* the face value of the bond is 1.0\n",
    "* use compound rate for discounting; the price of the default-free bond is $e^{-r_f T}$\n",
    "\n",
    "The Problem 1 of the [2017 ASP Midterm Exam](../files/ASP2017_Midterm.pdf) will be helpful.\n",
    "\n",
    "### Instruction to upload your HW\n",
    "* Create a repository named __`PHBS_ASP_2019`__ (and clone it to your PC)\n",
    "* Copy this file to __`PHBS_ASP_2019/HW1/HW1.ipynb`__  (Please use the same name for repository and ipynb file)\n",
    "* Add solution code.\n",
    "* Run your your code to make sure that there's no error.\n",
    "* Upload (commit and sync) your file."
   ]
  },
  {
   "cell_type": "markdown",
   "metadata": {},
   "source": [
    "### 1. First, let's create a pricing function and check the std "
   ]
  },
  {
   "cell_type": "code",
   "execution_count": 2,
   "metadata": {},
   "outputs": [],
   "source": [
    "import numpy as np"
   ]
  },
  {
   "cell_type": "code",
   "execution_count": 3,
   "metadata": {},
   "outputs": [],
   "source": [
    "def_rate = 0.1\n",
    "rf_rate = 0.03\n",
    "recovery = 0.3\n",
    "mat = 10"
   ]
  },
  {
   "cell_type": "markdown",
   "metadata": {},
   "source": []
  },
  {
   "cell_type": "code",
   "execution_count": 4,
   "metadata": {},
   "outputs": [
    {
     "data": {
      "text/plain": [
       "(9.80339208521233, 10.0)"
      ]
     },
     "execution_count": 4,
     "metadata": {},
     "output_type": "execute_result"
    }
   ],
   "source": [
    "# First generate exponential random numbers\n",
    "# Although you can generate directly using fault_time = np.random.exponential(scale=), let's use uniform random numbers.\n",
    "n_sample = 10000\n",
    "U = np.random.uniform(size=n_sample)\n",
    "default_time = -(1/def_rate)*np.log(U)\n",
    "# You can check if the RNs are correct by comparing the means\n",
    "(default_time.mean(), 1/def_rate)"
   ]
  },
  {
   "cell_type": "code",
   "execution_count": 5,
   "metadata": {},
   "outputs": [
    {
     "data": {
      "text/plain": [
       "(0.4399721807668823, 0.002167997353448178)"
      ]
     },
     "execution_count": 5,
     "metadata": {},
     "output_type": "execute_result"
    }
   ],
   "source": [
    "# Put your code here to price the corporate bond\n",
    "\n",
    "def corp_bond(mat=10, def_rate=0.03, rf_rate=0.04, recovery=0.3, n_sample=1e4):\n",
    "    U = np.random.uniform(size=n_sample)\n",
    "    default_time = -(1/def_rate)*np.log(U)\n",
    "    payment=((default_time-mat)>=0)*np.exp(-rf_rate*mat)+((default_time-mat)<0)*recovery*np.exp(-rf_rate*default_time)\n",
    "    price=payment.mean()\n",
    "    return price\n",
    "\n",
    "# Call your function\n",
    "corp_bond(mat, def_rate, rf_rate, recovery, n_sample)\n",
    "\n",
    "# Find the mean and std by calling the function 100 times. \n",
    "#Number of Simulation\n",
    "NumSim=100\n",
    "#ResultArray\n",
    "ResArr_0=np.zeros(shape=NumSim)\n",
    "for i in range(0,NumSim):\n",
    "    ResArr_0[i]=corp_bond(mat, def_rate, rf_rate, recovery, n_sample)\n",
    "    i=i+1\n",
    "(ResArr_0.mean(),ResArr_0.std())"
   ]
  },
  {
   "cell_type": "markdown",
   "metadata": {},
   "source": [
    "### 2. Now, let's improve the function by reducing the MC variations.\n",
    "1. Use antithetic method: If `U` is uniform random variable, so is `1-U`\n",
    "2. Also shift the RNs to match the mean, `1/def_rate`"
   ]
  },
  {
   "cell_type": "code",
   "execution_count": 6,
   "metadata": {},
   "outputs": [
    {
     "data": {
      "text/plain": [
       "(10.0, 10.0)"
      ]
     },
     "execution_count": 6,
     "metadata": {},
     "output_type": "execute_result"
    }
   ],
   "source": [
    "# For example, antithetic method mean\n",
    "n_sample = 10000\n",
    "U = np.random.uniform(size=int(n_sample/2))\n",
    "default_time = -(1/def_rate)*np.log(np.concatenate((U,1-U),axis=0))\n",
    "\n",
    "# Mean-matching means\n",
    "default_time += 1/def_rate-default_time.mean()\n",
    "(default_time.mean(), 1/def_rate)"
   ]
  },
  {
   "cell_type": "code",
   "execution_count": 7,
   "metadata": {},
   "outputs": [],
   "source": [
    "# No include the two new features: `antithetic` and `mean_match`\n",
    "\n",
    "def corp_bond_cv(mat=10, def_rate=0.03, rf_rate=0.04, recovery=0.3, n_sample=1e4, antithetic=True, mean_match=True):\n",
    "    \n",
    "    if(antithetic):\n",
    "        U = np.random.uniform(size=int(n_sample/2))\n",
    "    else:\n",
    "        U = np.random.uniform(size=n_sample) \n",
    "        \n",
    "    default_time = -(1/def_rate)*np.log(np.concatenate((U,1-U),axis=0))\n",
    "    \n",
    "    if(mean_match):\n",
    "        default_time += 1/def_rate-default_time.mean()\n",
    "    \n",
    "    payment=((default_time-mat)>=0)*np.exp(-rf_rate*mat)+((default_time-mat)<0)*recovery*np.exp(-rf_rate*default_time)\n",
    "    price=payment.mean()   \n",
    "\n",
    "    return price\n",
    "\n",
    "# Find the mean and std by calling the function 100 times for (i) antithetic (ii) mean_match and (iii) both\n",
    "ResArr_1=np.zeros(shape=NumSim)\n",
    "ResArr_2=np.zeros(shape=NumSim)\n",
    "ResArr_3=np.zeros(shape=NumSim)\n",
    "for i in range(0,NumSim):\n",
    "    ResArr_1[i]=corp_bond_cv(mat, def_rate, rf_rate, recovery, n_sample, antithetic=True, mean_match=False)\n",
    "    ResArr_2[i]=corp_bond_cv(mat, def_rate, rf_rate, recovery, n_sample, antithetic=False, mean_match=True)\n",
    "    ResArr_3[i]=corp_bond_cv(mat, def_rate, rf_rate, recovery, n_sample, antithetic=True, mean_match=True)\n",
    "    i=i+1\n"
   ]
  },
  {
   "cell_type": "code",
   "execution_count": 8,
   "metadata": {},
   "outputs": [
    {
     "name": "stdout",
     "output_type": "stream",
     "text": [
      "When antithetic=False, mean_match=False, MC mean and std are  0.4399721807668823 0.002167997353448178\n",
      "When antithetic=True, mean_match=False, MC mean and std are  0.440304419112797 0.0017428190255443091\n",
      "When antithetic=False, mean_match=True, MC mean and std are  0.4404740070249693 0.0010526786343845154\n",
      "When antithetic=True, mean_match=True, MC mean and std are  0.4405147616867399 0.0015556257983170962\n"
     ]
    }
   ],
   "source": [
    "#Result\n",
    "print('When antithetic=False, mean_match=False, MC mean and std are ',ResArr_0.mean(),ResArr_0.std())\n",
    "print('When antithetic=True, mean_match=False, MC mean and std are ',ResArr_1.mean(),ResArr_1.std())\n",
    "print('When antithetic=False, mean_match=True, MC mean and std are ',ResArr_2.mean(),ResArr_2.std())\n",
    "print('When antithetic=True, mean_match=True, MC mean and std are ',ResArr_3.mean(),ResArr_3.std())\n",
    "    "
   ]
  },
  {
   "cell_type": "markdown",
   "metadata": {
    "collapsed": true
   },
   "source": [
    "### 3. Finally, what is the analytic value of the corporate bond? How does it compare to your MC result above?"
   ]
  },
  {
   "cell_type": "code",
   "execution_count": 9,
   "metadata": {},
   "outputs": [],
   "source": [
    "### Put the analytic expression for the corporate bond price"
   ]
  },
  {
   "cell_type": "markdown",
   "metadata": {},
   "source": [
    " price of the bond=NPV of the bond payment=\n",
    " $\\int_{0}^T R\\ \\lambda\\ e^{-(r_f+\\lambda)\\ t}dt \\ +\\ e^{-(r_f+\\lambda)\\ T}=R\\frac{\\lambda}{\\lambda+r_f} (1-e^{-(r_f+\\lambda)T})  + e^{-(r_f+\\lambda)T}$"
   ]
  },
  {
   "cell_type": "code",
   "execution_count": 10,
   "metadata": {},
   "outputs": [
    {
     "data": {
      "text/plain": [
       "(0.44040907156462505,\n",
       " -0.0004368907977427283,\n",
       " -0.00010465245182805782,\n",
       " 6.49354603442509e-05,\n",
       " 0.00010569012211486539)"
      ]
     },
     "execution_count": 10,
     "metadata": {},
     "output_type": "execute_result"
    }
   ],
   "source": [
    "BondPrice=recovery*def_rate/(def_rate+rf_rate)*(1-np.exp(-(def_rate+rf_rate)*mat))+np.exp(-(def_rate+rf_rate)*mat)\n",
    "(BondPrice,ResArr_0.mean()-BondPrice,ResArr_1.mean()-BondPrice,ResArr_2.mean()-BondPrice,ResArr_3.mean()-BondPrice)"
   ]
  },
  {
   "cell_type": "markdown",
   "metadata": {},
   "source": [
    "Camparison: When using antithetic method, it helps to loose the computation load and slightly reduce the std. For mean_match method, it greatly improve the accuarcy and reduce the std.  However, when combining these two method, the result seems not as good as only using mean_match method.\n"
   ]
  },
  {
   "cell_type": "code",
   "execution_count": null,
   "metadata": {},
   "outputs": [],
   "source": []
  }
 ],
 "metadata": {
  "anaconda-cloud": {},
  "kernelspec": {
   "display_name": "Python 3",
   "language": "python",
   "name": "python3"
  },
  "language_info": {
   "codemirror_mode": {
    "name": "ipython",
    "version": 3
   },
   "file_extension": ".py",
   "mimetype": "text/x-python",
   "name": "python",
   "nbconvert_exporter": "python",
   "pygments_lexer": "ipython3",
   "version": "3.7.1"
  }
 },
 "nbformat": 4,
 "nbformat_minor": 1
}
